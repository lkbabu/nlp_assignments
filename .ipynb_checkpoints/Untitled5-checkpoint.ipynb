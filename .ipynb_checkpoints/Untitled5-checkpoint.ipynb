{
 "cells": [
  {
   "cell_type": "code",
   "execution_count": null,
   "metadata": {},
   "outputs": [
    {
     "name": "stdout",
     "output_type": "stream",
     "text": [
      "My father.\n",
      "YOUR FATHER.\n"
     ]
    }
   ],
   "source": [
    "\"\"\"\n",
    "User: I am unhappy.\n",
    "ELIZA: DO YOU THINK COMING HERE WILL HELP YOU NOT TO BE UNHAPPY\n",
    "User: I need some help, that much seems certain.\n",
    "ELIZA: WHAT WOULD IT MEAN TO YOU IF YOU GOT SOME HELP\n",
    "User: Perhaps I could learn to get along with my mother.\n",
    "ELIZA: TELL ME MORE ABOUT YOUR FAMILY\n",
    "User: My mother takes care of me.\n",
    "ELIZA: WHO ELSE IN YOUR FAMILY TAKES CARE OF YOU\n",
    "User: My father.\n",
    "ELIZA: YOUR FATHER\n",
    "\"\"\"\n",
    "\n",
    "\n",
    "import re \n",
    "while True:\n",
    "    inp=input()\n",
    "    l1=re.search(r'unhappy',inp)\n",
    "    l2=re.search(r'some[\\s]+help',inp)\n",
    "    l3=re.search(r'my[\\s]+mother',inp)\n",
    "    l4=re.search(r'takes[\\s]+care .*',inp)\n",
    "    l5=re.search(r'My[\\s]+father.*',inp)\n",
    "    if l1:\n",
    "        print(\"DO YOU THINK COMING HERE WILL HELP YOU NOT TO BE UNHAPPY\")\n",
    "    elif l2:\n",
    "        print(\"WHAT WOULD IT MEAN TO YOU IF YOU GOT SOME HELP\")\n",
    "    elif l3:\n",
    "        print(\"TELL ME MORE ABOUT YOUR FAMILY\")\n",
    "    elif l4:\n",
    "        n=re.sub(r'me','you',string=l4.group())   \n",
    "        print(' WHO ELSE IN YOUR FAMILY '+n.upper())\n",
    "    elif l5:\n",
    "        n2=re.sub(r'My','your',string=l5.group()) \n",
    "        n2=n2.upper()\n",
    "        print(n2)"
   ]
  },
  {
   "cell_type": "code",
   "execution_count": null,
   "metadata": {},
   "outputs": [],
   "source": []
  }
 ],
 "metadata": {
  "kernelspec": {
   "display_name": "Python 3",
   "language": "python",
   "name": "python3"
  },
  "language_info": {
   "codemirror_mode": {
    "name": "ipython",
    "version": 3
   },
   "file_extension": ".py",
   "mimetype": "text/x-python",
   "name": "python",
   "nbconvert_exporter": "python",
   "pygments_lexer": "ipython3",
   "version": "3.7.3"
  }
 },
 "nbformat": 4,
 "nbformat_minor": 2
}
